{
  "nbformat": 4,
  "nbformat_minor": 0,
  "metadata": {
    "colab": {
      "provenance": [],
      "authorship_tag": "ABX9TyNZ6enXFi50vTxjUvJgyvXO",
      "include_colab_link": true
    },
    "kernelspec": {
      "name": "python3",
      "display_name": "Python 3"
    },
    "language_info": {
      "name": "python"
    }
  },
  "cells": [
    {
      "cell_type": "markdown",
      "metadata": {
        "id": "view-in-github",
        "colab_type": "text"
      },
      "source": [
        "<a href=\"https://colab.research.google.com/github/yecnalc/Coding-Set-14/blob/main/14_Hierarchy_Chart.ipynb\" target=\"_parent\"><img src=\"https://colab.research.google.com/assets/colab-badge.svg\" alt=\"Open In Colab\"/></a>"
      ]
    },
    {
      "cell_type": "markdown",
      "source": [
        "main()\n",
        "│\n",
        "├─ create_database_and_table()\n",
        "│    │\n",
        "│    └─ sqlite3.connect()\n",
        "│         │\n",
        "│         └─ c.execute()\n",
        "│              │\n",
        "│              └─ CREATE TABLE\n",
        "│\n",
        "├─ add_contact(name, phone_number)\n",
        "│    │\n",
        "│    └─ sqlite3.connect()\n",
        "│         │\n",
        "│         └─ c.execute()\n",
        "│              │\n",
        "│              └─ INSERT INTO\n",
        "│\n",
        "├─ lookup_contact(name)\n",
        "│    │\n",
        "│    └─ sqlite3.connect()\n",
        "│         │\n",
        "│         └─ c.execute()\n",
        "│              │\n",
        "│              └─ SELECT phone_number\n",
        "│\n",
        "├─ update_contact(name, new_phone_number)\n",
        "│    │\n",
        "│    └─ sqlite3.connect()\n",
        "│         │\n",
        "│         └─ c.execute()\n",
        "│              │\n",
        "│              └─ UPDATE contacts\n",
        "│\n",
        "└─ delete_contact(name)\n",
        "     │\n",
        "     └─ sqlite3.connect()\n",
        "          │\n",
        "          └─ c.execute()\n",
        "               │\n",
        "               └─ DELETE FROM contacts\n"
      ],
      "metadata": {
        "id": "jw0ZpTZ1uk1f"
      }
    }
  ]
}