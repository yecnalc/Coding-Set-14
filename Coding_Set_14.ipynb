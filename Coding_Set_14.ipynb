{
  "nbformat": 4,
  "nbformat_minor": 0,
  "metadata": {
    "colab": {
      "provenance": [],
      "authorship_tag": "ABX9TyNWF/O5QWL6c8DWswYqtFmi",
      "include_colab_link": true
    },
    "kernelspec": {
      "name": "python3",
      "display_name": "Python 3"
    },
    "language_info": {
      "name": "python"
    }
  },
  "cells": [
    {
      "cell_type": "markdown",
      "metadata": {
        "id": "view-in-github",
        "colab_type": "text"
      },
      "source": [
        "<a href=\"https://colab.research.google.com/github/yecnalc/Coding-Set-14/blob/main/Coding_Set_14.ipynb\" target=\"_parent\"><img src=\"https://colab.research.google.com/assets/colab-badge.svg\" alt=\"Open In Colab\"/></a>"
      ]
    },
    {
      "cell_type": "markdown",
      "source": [
        "\"Write a program that creates a database named . The database should have a table named , with columns for a person’s name and phone number. Next, write a CRUD application that lets the user add rows to the  table, look up a person’s phone number, change a person’s phone number, and delete specified rows\""
      ],
      "metadata": {
        "id": "KeqQokLeoRNH"
      }
    },
    {
      "cell_type": "code",
      "source": [
        "import splite3\n",
        "\n",
        "def create_database_and_table():\n",
        "  conn = splite3.connect('example')\n",
        "  c = conn.cursour()\n",
        "  c.execute('''CREATE TABLE IF NOT EXISTS contacts\n",
        "                 (name TEXT, phone_number TEXT)''')\n",
        "  conn.commit()\n",
        "  conn.close\n",
        "\n",
        "def add_contact(name, phone_number):\n",
        "import sqlite3\n",
        "conn = sqlite3.connect('example')\n",
        "c = conn.cursor()\n",
        "c.execute(\"INSERT INTO contact_info (name, phone_number) VALUES (?,?)\",\n",
        "          (name, phone_number))\n",
        "conn.commit()\n",
        "  conn.close\n",
        "\n",
        "def lookup_contact(name):\n",
        "    conn = sqlite3.connect('example')\n",
        "    c = conn.cursor()\n",
        "    c.execute(\"Select phone_number from contacts where name=?\", (name,))\n",
        "    result = c.fetchone()\n",
        "    conn.close()\n",
        "    if result:\n",
        "        return result[0]\n",
        "    else:\n",
        "        return \"Contact not found\"\n",
        "\n",
        "def update_contact(name, new_phone_number):\n",
        "    conn = sqlite3.connect('example')\n",
        "    c = conn.cursor()\n",
        "    c.execute(\"Update contacts set phone_number=? where name=?\", (new_phone_number, name))\n",
        "    conn.commit()\n",
        "    conn.close()\n",
        "\n",
        "def delete_contact(name):\n",
        "    conn = sqlite3.connect('example')\n",
        "    c = conn.cursor()\n",
        "    c.execute(\"Delete from contacts where name=?\", (name,))\n",
        "    conn.commit()\n",
        "    conn.close()\n",
        "\n",
        "def main():\n",
        "    create_database_and_table()\n",
        "\n",
        "while True:\n",
        "  print(\"\\n1. Add new contact\")\n",
        "  print(\"2. Look up contact number\")\n",
        "  print(\"3. Update contact number\")\n",
        "  print(\"4. Delete contact number\")\n",
        "  print(\"5. Done\")\n",
        "\n",
        "choice = input(\"Enter choice\")\n",
        "\n",
        "   if choice == '1':\n",
        "      name = input(\"Enter the contact's name: \")\n",
        "      phone_number = input(\"Enter the contact's phone number: \")\n",
        "      add_contact(name, phone_number)\n",
        "      print(\"Contact added successfully.\")\n",
        "      elif choice == '2':\n",
        "      name = input(\"Enter the contact's name: \")\n",
        "      phone_number = lookup_contact(name)\n",
        "      print(f\"The phone number for {name} is: {phone_number}\")\n",
        "      elif choice == '3':\n",
        "      name = input(\"Enter the contact's name: \")\n",
        "      new_phone_number = input(\"Enter the new phone number: \")\n",
        "      update_contact(name, new_phone_number)\n",
        "      print(\"Contact updated successfully.\")\n",
        "      elif choice == '4':\n",
        "      name = input(\"Enter the contact's name: \")\n",
        "      delete_contact(name)\n",
        "      print(\"Contact deleted successfully.\")\n",
        "      elif choice == '5':\n",
        "      print(\"Exiting program.\")\n",
        "        break\n",
        "      else:\n",
        "            print(\"Invalid choice. Please try again.\")\n",
        "\n",
        "if __name__ == \"__main__\":\n",
        "    main()\n",
        "\n",
        "\n"
      ],
      "metadata": {
        "colab": {
          "base_uri": "https://localhost:8080/",
          "height": 105
        },
        "id": "vKFG5IAOoUmv",
        "outputId": "aad033c0-1065-40c7-b828-75049b362e78"
      },
      "execution_count": 2,
      "outputs": [
        {
          "output_type": "error",
          "ename": "IndentationError",
          "evalue": "expected an indented block after function definition on line 11 (<ipython-input-2-916a1fa87c56>, line 12)",
          "traceback": [
            "\u001b[0;36m  File \u001b[0;32m\"<ipython-input-2-916a1fa87c56>\"\u001b[0;36m, line \u001b[0;32m12\u001b[0m\n\u001b[0;31m    import sqlite3\u001b[0m\n\u001b[0m    ^\u001b[0m\n\u001b[0;31mIndentationError\u001b[0m\u001b[0;31m:\u001b[0m expected an indented block after function definition on line 11\n"
          ]
        }
      ]
    },
    {
      "cell_type": "markdown",
      "source": [
        "After looking at the explanation for my error, I am going to double check what went wrong with ChatGPT."
      ],
      "metadata": {
        "id": "ybnrAa2PsOcK"
      }
    },
    {
      "cell_type": "markdown",
      "source": [
        "I believe all that is wrong is just indentation errors, which is usually my biggest mistake."
      ],
      "metadata": {
        "id": "yXn84mrGsY-K"
      }
    },
    {
      "cell_type": "code",
      "source": [
        "import sqlite3\n",
        "\n",
        "def create_database_and_table():\n",
        "    conn = sqlite3.connect('example.db')\n",
        "    c = conn.cursor()\n",
        "    c.execute('''CREATE TABLE IF NOT EXISTS contacts\n",
        "                 (name TEXT, phone_number TEXT)''')\n",
        "    conn.commit()\n",
        "    conn.close()\n",
        "\n",
        "def add_contact(name, phone_number):\n",
        "    conn = sqlite3.connect('example.db')\n",
        "    c = conn.cursor()\n",
        "    c.execute(\"INSERT INTO contacts (name, phone_number) VALUES (?,?)\",\n",
        "              (name, phone_number))\n",
        "    conn.commit()\n",
        "    conn.close()\n",
        "\n",
        "def lookup_contact(name):\n",
        "    conn = sqlite3.connect('example.db')\n",
        "    c = conn.cursor()\n",
        "    c.execute(\"SELECT phone_number FROM contacts WHERE name=?\", (name,))\n",
        "    result = c.fetchone()\n",
        "    conn.close()\n",
        "    if result:\n",
        "        return result[0]\n",
        "    else:\n",
        "        return \"Contact not found\"\n",
        "\n",
        "def update_contact(name, new_phone_number):\n",
        "    conn = sqlite3.connect('example.db')\n",
        "    c = conn.cursor()\n",
        "    c.execute(\"UPDATE contacts SET phone_number=? WHERE name=?\", (new_phone_number, name))\n",
        "    conn.commit()\n",
        "    conn.close()\n",
        "\n",
        "def delete_contact(name):\n",
        "    conn = sqlite3.connect('example.db')\n",
        "    c = conn.cursor()\n",
        "    c.execute(\"DELETE FROM contacts WHERE name=?\", (name,))\n",
        "    conn.commit()\n",
        "    conn.close()\n",
        "\n",
        "def main():\n",
        "    create_database_and_table()\n",
        "\n",
        "    while True:\n",
        "        print(\"\\n1. Add new contact\")\n",
        "        print(\"2. Look up contact number\")\n",
        "        print(\"3. Update contact number\")\n",
        "        print(\"4. Delete contact number\")\n",
        "        print(\"5. Done\")\n",
        "\n",
        "        choice = input(\"Enter choice: \")\n",
        "\n",
        "        if choice == '1':\n",
        "            name = input(\"Enter the contact's name: \")\n",
        "            phone_number = input(\"Enter the contact's phone number: \")\n",
        "            add_contact(name, phone_number)\n",
        "            print(\"Contact added successfully.\")\n",
        "        elif choice == '2':\n",
        "            name = input(\"Enter the contact's name: \")\n",
        "            phone_number = lookup_contact(name)\n",
        "            print(f\"The phone number for {name} is: {phone_number}\")\n",
        "        elif choice == '3':\n",
        "            name = input(\"Enter the contact's name: \")\n",
        "            new_phone_number = input(\"Enter the new phone number: \")\n",
        "            update_contact(name, new_phone_number)\n",
        "            print(\"Contact updated successfully.\")\n",
        "        elif choice == '4':\n",
        "            name = input(\"Enter the contact's name: \")\n",
        "            delete_contact(name)\n",
        "            print(\"Contact deleted successfully.\")\n",
        "        elif choice == '5':\n",
        "            print(\"Exiting program.\")\n",
        "            break\n",
        "        else:\n",
        "            print(\"Invalid choice. Please try again.\")\n",
        "\n",
        "if __name__ == \"__main__\":\n",
        "    main()\n"
      ],
      "metadata": {
        "colab": {
          "base_uri": "https://localhost:8080/"
        },
        "id": "ytMEsr9ksVNc",
        "outputId": "32aef67e-86ce-4a9f-8061-0029177dd6cb"
      },
      "execution_count": null,
      "outputs": [
        {
          "output_type": "stream",
          "name": "stdout",
          "text": [
            "\n",
            "1. Add new contact\n",
            "2. Look up contact number\n",
            "3. Update contact number\n",
            "4. Delete contact number\n",
            "5. Done\n",
            "Enter choice: 1\n",
            "Enter the contact's name: Jack \n",
            "Enter the contact's phone number: 123-456-7986\n",
            "Contact added successfully.\n",
            "\n",
            "1. Add new contact\n",
            "2. Look up contact number\n",
            "3. Update contact number\n",
            "4. Delete contact number\n",
            "5. Done\n"
          ]
        }
      ]
    },
    {
      "cell_type": "markdown",
      "source": [
        "Looks like the code works! I also seemed to forget to add \".db\" to my line of code with \"('example')"
      ],
      "metadata": {
        "id": "OnrRM8UWsrEY"
      }
    },
    {
      "cell_type": "code",
      "source": [],
      "metadata": {
        "id": "pKPjwujms5Pp"
      },
      "execution_count": null,
      "outputs": []
    }
  ]
}